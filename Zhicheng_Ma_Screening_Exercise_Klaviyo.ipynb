{
 "cells": [
  {
   "cell_type": "markdown",
   "metadata": {},
   "source": [
    "## 0. Dependency Libraries "
   ]
  },
  {
   "cell_type": "code",
   "execution_count": 1,
   "metadata": {},
   "outputs": [],
   "source": [
    "import os\n",
    "import numpy as np\n",
    "import pandas as pd\n",
    "%matplotlib inline\n",
    "import seaborn as sns"
   ]
  },
  {
   "cell_type": "code",
   "execution_count": 10,
   "metadata": {},
   "outputs": [
    {
     "data": {
      "text/html": [
       "<div>\n",
       "<style scoped>\n",
       "    .dataframe tbody tr th:only-of-type {\n",
       "        vertical-align: middle;\n",
       "    }\n",
       "\n",
       "    .dataframe tbody tr th {\n",
       "        vertical-align: top;\n",
       "    }\n",
       "\n",
       "    .dataframe thead th {\n",
       "        text-align: right;\n",
       "    }\n",
       "</style>\n",
       "<table border=\"1\" class=\"dataframe\">\n",
       "  <thead>\n",
       "    <tr style=\"text-align: right;\">\n",
       "      <th></th>\n",
       "      <th>customer_id</th>\n",
       "      <th>gender</th>\n",
       "      <th>date</th>\n",
       "      <th>value</th>\n",
       "      <th>predicted_gender</th>\n",
       "    </tr>\n",
       "  </thead>\n",
       "  <tbody>\n",
       "    <tr>\n",
       "      <th>9466</th>\n",
       "      <td>7270</td>\n",
       "      <td>1</td>\n",
       "      <td>2017-09-06 21:00:40</td>\n",
       "      <td>776.8</td>\n",
       "      <td>0</td>\n",
       "    </tr>\n",
       "    <tr>\n",
       "      <th>9003</th>\n",
       "      <td>1427</td>\n",
       "      <td>0</td>\n",
       "      <td>2017-08-24 15:40:27</td>\n",
       "      <td>199.6</td>\n",
       "      <td>0</td>\n",
       "    </tr>\n",
       "    <tr>\n",
       "      <th>6189</th>\n",
       "      <td>5306</td>\n",
       "      <td>0</td>\n",
       "      <td>2017-06-04 18:55:59</td>\n",
       "      <td>233.2</td>\n",
       "      <td>0</td>\n",
       "    </tr>\n",
       "    <tr>\n",
       "      <th>11469</th>\n",
       "      <td>3389</td>\n",
       "      <td>1</td>\n",
       "      <td>2017-11-08 13:59:46</td>\n",
       "      <td>804.0</td>\n",
       "      <td>1</td>\n",
       "    </tr>\n",
       "    <tr>\n",
       "      <th>9966</th>\n",
       "      <td>7558</td>\n",
       "      <td>0</td>\n",
       "      <td>2017-09-22 14:43:44</td>\n",
       "      <td>178.0</td>\n",
       "      <td>0</td>\n",
       "    </tr>\n",
       "  </tbody>\n",
       "</table>\n",
       "</div>"
      ],
      "text/plain": [
       "       customer_id  gender                 date  value  predicted_gender\n",
       "9466          7270       1  2017-09-06 21:00:40  776.8                 0\n",
       "9003          1427       0  2017-08-24 15:40:27  199.6                 0\n",
       "6189          5306       0  2017-06-04 18:55:59  233.2                 0\n",
       "11469         3389       1  2017-11-08 13:59:46  804.0                 1\n",
       "9966          7558       0  2017-09-22 14:43:44  178.0                 0"
      ]
     },
     "execution_count": 10,
     "metadata": {},
     "output_type": "execute_result"
    }
   ],
   "source": [
    "# Read the original dataset\n",
    "data_dir = ''\n",
    "file_path = 'screening_exercise_orders_v201810.csv'\n",
    "ori_data = pd.read_csv(os.path.join(data_dir, file_path), header = 0)\n",
    "ori_data.sample(5)"
   ]
  },
  {
   "cell_type": "code",
   "execution_count": 28,
   "metadata": {},
   "outputs": [
    {
     "name": "stdout",
     "output_type": "stream",
     "text": [
      "Original dataset length: 13471\n"
     ]
    }
   ],
   "source": [
    "# check the length first\n",
    "print(\"Original dataset length: \"+str(len(ori_data)))"
   ]
  },
  {
   "cell_type": "markdown",
   "metadata": {},
   "source": [
    "## A) Assemble a dataframe with one row per customer and the following columns:\n",
    "#### * customer_id * gender * most_recent_order_date * order_count (number of orders placed by this customer)\n",
    "#### Sort the dataframe by customer_id ascending and display the first 10 rows."
   ]
  },
  {
   "cell_type": "code",
   "execution_count": 46,
   "metadata": {},
   "outputs": [
    {
     "data": {
      "text/html": [
       "<div>\n",
       "<style scoped>\n",
       "    .dataframe tbody tr th:only-of-type {\n",
       "        vertical-align: middle;\n",
       "    }\n",
       "\n",
       "    .dataframe tbody tr th {\n",
       "        vertical-align: top;\n",
       "    }\n",
       "\n",
       "    .dataframe thead th {\n",
       "        text-align: right;\n",
       "    }\n",
       "</style>\n",
       "<table border=\"1\" class=\"dataframe\">\n",
       "  <thead>\n",
       "    <tr style=\"text-align: right;\">\n",
       "      <th></th>\n",
       "      <th></th>\n",
       "      <th>most_recent_order_date</th>\n",
       "    </tr>\n",
       "    <tr>\n",
       "      <th>customer_id</th>\n",
       "      <th>gender</th>\n",
       "      <th></th>\n",
       "    </tr>\n",
       "  </thead>\n",
       "  <tbody>\n",
       "    <tr>\n",
       "      <th>7081</th>\n",
       "      <th>0</th>\n",
       "      <td>2017-08-26 23:50:56</td>\n",
       "    </tr>\n",
       "    <tr>\n",
       "      <th>7049</th>\n",
       "      <th>1</th>\n",
       "      <td>2017-08-25 19:49:26</td>\n",
       "    </tr>\n",
       "    <tr>\n",
       "      <th>3956</th>\n",
       "      <th>0</th>\n",
       "      <td>2017-04-20 15:00:11</td>\n",
       "    </tr>\n",
       "  </tbody>\n",
       "</table>\n",
       "</div>"
      ],
      "text/plain": [
       "                   most_recent_order_date\n",
       "customer_id gender                       \n",
       "7081        0         2017-08-26 23:50:56\n",
       "7049        1         2017-08-25 19:49:26\n",
       "3956        0         2017-04-20 15:00:11"
      ]
     },
     "execution_count": 46,
     "metadata": {},
     "output_type": "execute_result"
    }
   ],
   "source": [
    "# Group rows by using customer_id and gender, and find the most_recent_order_date for each customer\n",
    "customer_data = pd.DataFrame(ori_data.groupby(['customer_id', 'gender'], sort=False)['date'].max()).rename(columns={'date':'most_recent_order_date'})\n",
    "customer_data.sample(3)"
   ]
  },
  {
   "cell_type": "code",
   "execution_count": 47,
   "metadata": {},
   "outputs": [
    {
     "name": "stdout",
     "output_type": "stream",
     "text": [
      "Customer dataset length: 8814\n"
     ]
    }
   ],
   "source": [
    "# check the length after grouping\n",
    "print(\"Customer dataset length: \"+str(len(tmp_data)))"
   ]
  },
  {
   "cell_type": "code",
   "execution_count": 48,
   "metadata": {},
   "outputs": [
    {
     "data": {
      "text/html": [
       "<div>\n",
       "<style scoped>\n",
       "    .dataframe tbody tr th:only-of-type {\n",
       "        vertical-align: middle;\n",
       "    }\n",
       "\n",
       "    .dataframe tbody tr th {\n",
       "        vertical-align: top;\n",
       "    }\n",
       "\n",
       "    .dataframe thead th {\n",
       "        text-align: right;\n",
       "    }\n",
       "</style>\n",
       "<table border=\"1\" class=\"dataframe\">\n",
       "  <thead>\n",
       "    <tr style=\"text-align: right;\">\n",
       "      <th></th>\n",
       "      <th></th>\n",
       "      <th>most_recent_order_date</th>\n",
       "      <th>order_count</th>\n",
       "    </tr>\n",
       "    <tr>\n",
       "      <th>customer_id</th>\n",
       "      <th>gender</th>\n",
       "      <th></th>\n",
       "      <th></th>\n",
       "    </tr>\n",
       "  </thead>\n",
       "  <tbody>\n",
       "    <tr>\n",
       "      <th>8197</th>\n",
       "      <th>1</th>\n",
       "      <td>2017-10-20 21:49:40</td>\n",
       "      <td>1</td>\n",
       "    </tr>\n",
       "    <tr>\n",
       "      <th>5179</th>\n",
       "      <th>1</th>\n",
       "      <td>2017-05-27 23:06:07</td>\n",
       "      <td>2</td>\n",
       "    </tr>\n",
       "    <tr>\n",
       "      <th>8786</th>\n",
       "      <th>1</th>\n",
       "      <td>2017-11-24 21:19:27</td>\n",
       "      <td>1</td>\n",
       "    </tr>\n",
       "  </tbody>\n",
       "</table>\n",
       "</div>"
      ],
      "text/plain": [
       "                   most_recent_order_date  order_count\n",
       "customer_id gender                                    \n",
       "8197        1         2017-10-20 21:49:40            1\n",
       "5179        1         2017-05-27 23:06:07            2\n",
       "8786        1         2017-11-24 21:19:27            1"
      ]
     },
     "execution_count": 48,
     "metadata": {},
     "output_type": "execute_result"
    }
   ],
   "source": [
    "# Add order_count for each customer\n",
    "customer_data['order_count'] = ori_data['customer_id'].value_counts().sort_index().values\n",
    "customer_data.sample(3)"
   ]
  },
  {
   "cell_type": "code",
   "execution_count": 49,
   "metadata": {},
   "outputs": [
    {
     "data": {
      "text/html": [
       "<div>\n",
       "<style scoped>\n",
       "    .dataframe tbody tr th:only-of-type {\n",
       "        vertical-align: middle;\n",
       "    }\n",
       "\n",
       "    .dataframe tbody tr th {\n",
       "        vertical-align: top;\n",
       "    }\n",
       "\n",
       "    .dataframe thead th {\n",
       "        text-align: right;\n",
       "    }\n",
       "</style>\n",
       "<table border=\"1\" class=\"dataframe\">\n",
       "  <thead>\n",
       "    <tr style=\"text-align: right;\">\n",
       "      <th></th>\n",
       "      <th></th>\n",
       "      <th>most_recent_order_date</th>\n",
       "      <th>order_count</th>\n",
       "    </tr>\n",
       "    <tr>\n",
       "      <th>customer_id</th>\n",
       "      <th>gender</th>\n",
       "      <th></th>\n",
       "      <th></th>\n",
       "    </tr>\n",
       "  </thead>\n",
       "  <tbody>\n",
       "    <tr>\n",
       "      <th>1000</th>\n",
       "      <th>0</th>\n",
       "      <td>2017-01-01 00:11:31</td>\n",
       "      <td>1</td>\n",
       "    </tr>\n",
       "    <tr>\n",
       "      <th>1001</th>\n",
       "      <th>0</th>\n",
       "      <td>2017-01-01 00:29:56</td>\n",
       "      <td>1</td>\n",
       "    </tr>\n",
       "    <tr>\n",
       "      <th>1002</th>\n",
       "      <th>1</th>\n",
       "      <td>2017-02-19 21:35:31</td>\n",
       "      <td>3</td>\n",
       "    </tr>\n",
       "    <tr>\n",
       "      <th>1003</th>\n",
       "      <th>1</th>\n",
       "      <td>2017-04-26 02:37:20</td>\n",
       "      <td>4</td>\n",
       "    </tr>\n",
       "    <tr>\n",
       "      <th>1004</th>\n",
       "      <th>0</th>\n",
       "      <td>2017-01-01 03:11:54</td>\n",
       "      <td>1</td>\n",
       "    </tr>\n",
       "    <tr>\n",
       "      <th>1005</th>\n",
       "      <th>1</th>\n",
       "      <td>2017-12-16 01:39:27</td>\n",
       "      <td>2</td>\n",
       "    </tr>\n",
       "    <tr>\n",
       "      <th>1006</th>\n",
       "      <th>1</th>\n",
       "      <td>2017-05-09 15:27:20</td>\n",
       "      <td>3</td>\n",
       "    </tr>\n",
       "    <tr>\n",
       "      <th>1007</th>\n",
       "      <th>0</th>\n",
       "      <td>2017-01-01 15:59:50</td>\n",
       "      <td>1</td>\n",
       "    </tr>\n",
       "    <tr>\n",
       "      <th>1008</th>\n",
       "      <th>0</th>\n",
       "      <td>2017-12-17 05:47:48</td>\n",
       "      <td>3</td>\n",
       "    </tr>\n",
       "    <tr>\n",
       "      <th>1009</th>\n",
       "      <th>1</th>\n",
       "      <td>2017-01-01 19:27:17</td>\n",
       "      <td>1</td>\n",
       "    </tr>\n",
       "  </tbody>\n",
       "</table>\n",
       "</div>"
      ],
      "text/plain": [
       "                   most_recent_order_date  order_count\n",
       "customer_id gender                                    \n",
       "1000        0         2017-01-01 00:11:31            1\n",
       "1001        0         2017-01-01 00:29:56            1\n",
       "1002        1         2017-02-19 21:35:31            3\n",
       "1003        1         2017-04-26 02:37:20            4\n",
       "1004        0         2017-01-01 03:11:54            1\n",
       "1005        1         2017-12-16 01:39:27            2\n",
       "1006        1         2017-05-09 15:27:20            3\n",
       "1007        0         2017-01-01 15:59:50            1\n",
       "1008        0         2017-12-17 05:47:48            3\n",
       "1009        1         2017-01-01 19:27:17            1"
      ]
     },
     "execution_count": 49,
     "metadata": {},
     "output_type": "execute_result"
    }
   ],
   "source": [
    "# Sort the dataframe by customer_id ascending and display the first 10 rows.\n",
    "customer_data.head(10)"
   ]
  }
 ],
 "metadata": {
  "kernelspec": {
   "display_name": "Python 3",
   "language": "python",
   "name": "python3"
  },
  "language_info": {
   "codemirror_mode": {
    "name": "ipython",
    "version": 3
   },
   "file_extension": ".py",
   "mimetype": "text/x-python",
   "name": "python",
   "nbconvert_exporter": "python",
   "pygments_lexer": "ipython3",
   "version": "3.7.0"
  }
 },
 "nbformat": 4,
 "nbformat_minor": 4
}

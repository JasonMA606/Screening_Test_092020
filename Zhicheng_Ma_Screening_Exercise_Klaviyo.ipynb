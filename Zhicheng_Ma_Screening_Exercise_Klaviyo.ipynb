{
 "cells": [
  {
   "cell_type": "markdown",
   "metadata": {},
   "source": [
    "## 0. Dependency Libraries "
   ]
  },
  {
   "cell_type": "code",
   "execution_count": 1,
   "metadata": {},
   "outputs": [],
   "source": [
    "import os\n",
    "import numpy as np\n",
    "import pandas as pd\n",
    "%matplotlib inline\n",
    "import matplotlib.pyplot as plt\n",
    "import seaborn as sns\n",
    "import datetime\n",
    "from scipy.stats import ttest_ind\n",
    "from sklearn.metrics import confusion_matrix"
   ]
  },
  {
   "cell_type": "code",
   "execution_count": 2,
   "metadata": {},
   "outputs": [
    {
     "data": {
      "text/html": [
       "<div>\n",
       "<style scoped>\n",
       "    .dataframe tbody tr th:only-of-type {\n",
       "        vertical-align: middle;\n",
       "    }\n",
       "\n",
       "    .dataframe tbody tr th {\n",
       "        vertical-align: top;\n",
       "    }\n",
       "\n",
       "    .dataframe thead th {\n",
       "        text-align: right;\n",
       "    }\n",
       "</style>\n",
       "<table border=\"1\" class=\"dataframe\">\n",
       "  <thead>\n",
       "    <tr style=\"text-align: right;\">\n",
       "      <th></th>\n",
       "      <th>customer_id</th>\n",
       "      <th>gender</th>\n",
       "      <th>date</th>\n",
       "      <th>value</th>\n",
       "      <th>predicted_gender</th>\n",
       "    </tr>\n",
       "  </thead>\n",
       "  <tbody>\n",
       "    <tr>\n",
       "      <th>0</th>\n",
       "      <td>1000</td>\n",
       "      <td>0</td>\n",
       "      <td>2017-01-01 00:11:31</td>\n",
       "      <td>198.50</td>\n",
       "      <td>1</td>\n",
       "    </tr>\n",
       "    <tr>\n",
       "      <th>1</th>\n",
       "      <td>1001</td>\n",
       "      <td>0</td>\n",
       "      <td>2017-01-01 00:29:56</td>\n",
       "      <td>338.00</td>\n",
       "      <td>1</td>\n",
       "    </tr>\n",
       "    <tr>\n",
       "      <th>2</th>\n",
       "      <td>1002</td>\n",
       "      <td>1</td>\n",
       "      <td>2017-01-01 01:30:31</td>\n",
       "      <td>733.00</td>\n",
       "      <td>1</td>\n",
       "    </tr>\n",
       "    <tr>\n",
       "      <th>3</th>\n",
       "      <td>1003</td>\n",
       "      <td>1</td>\n",
       "      <td>2017-01-01 01:34:22</td>\n",
       "      <td>772.00</td>\n",
       "      <td>1</td>\n",
       "    </tr>\n",
       "    <tr>\n",
       "      <th>4</th>\n",
       "      <td>1004</td>\n",
       "      <td>0</td>\n",
       "      <td>2017-01-01 03:11:54</td>\n",
       "      <td>508.00</td>\n",
       "      <td>1</td>\n",
       "    </tr>\n",
       "    <tr>\n",
       "      <th>5</th>\n",
       "      <td>1005</td>\n",
       "      <td>1</td>\n",
       "      <td>2017-01-01 10:08:05</td>\n",
       "      <td>338.00</td>\n",
       "      <td>0</td>\n",
       "    </tr>\n",
       "    <tr>\n",
       "      <th>6</th>\n",
       "      <td>1006</td>\n",
       "      <td>1</td>\n",
       "      <td>2017-01-01 15:42:57</td>\n",
       "      <td>1526.43</td>\n",
       "      <td>1</td>\n",
       "    </tr>\n",
       "    <tr>\n",
       "      <th>7</th>\n",
       "      <td>1007</td>\n",
       "      <td>0</td>\n",
       "      <td>2017-01-01 15:59:50</td>\n",
       "      <td>168.00</td>\n",
       "      <td>0</td>\n",
       "    </tr>\n",
       "    <tr>\n",
       "      <th>8</th>\n",
       "      <td>1008</td>\n",
       "      <td>0</td>\n",
       "      <td>2017-01-01 18:01:04</td>\n",
       "      <td>207.99</td>\n",
       "      <td>0</td>\n",
       "    </tr>\n",
       "    <tr>\n",
       "      <th>9</th>\n",
       "      <td>1009</td>\n",
       "      <td>1</td>\n",
       "      <td>2017-01-01 19:27:17</td>\n",
       "      <td>283.00</td>\n",
       "      <td>1</td>\n",
       "    </tr>\n",
       "  </tbody>\n",
       "</table>\n",
       "</div>"
      ],
      "text/plain": [
       "   customer_id  gender                 date    value  predicted_gender\n",
       "0         1000       0  2017-01-01 00:11:31   198.50                 1\n",
       "1         1001       0  2017-01-01 00:29:56   338.00                 1\n",
       "2         1002       1  2017-01-01 01:30:31   733.00                 1\n",
       "3         1003       1  2017-01-01 01:34:22   772.00                 1\n",
       "4         1004       0  2017-01-01 03:11:54   508.00                 1\n",
       "5         1005       1  2017-01-01 10:08:05   338.00                 0\n",
       "6         1006       1  2017-01-01 15:42:57  1526.43                 1\n",
       "7         1007       0  2017-01-01 15:59:50   168.00                 0\n",
       "8         1008       0  2017-01-01 18:01:04   207.99                 0\n",
       "9         1009       1  2017-01-01 19:27:17   283.00                 1"
      ]
     },
     "execution_count": 2,
     "metadata": {},
     "output_type": "execute_result"
    }
   ],
   "source": [
    "# Read the original dataset\n",
    "data_dir = ''\n",
    "file_path = 'screening_exercise_orders_v201810.csv'\n",
    "ori_data = pd.read_csv(os.path.join(data_dir, file_path), header = 0)\n",
    "ori_data.head(10)"
   ]
  },
  {
   "cell_type": "code",
   "execution_count": 3,
   "metadata": {},
   "outputs": [
    {
     "name": "stdout",
     "output_type": "stream",
     "text": [
      "Original dataset length: 13471\n"
     ]
    }
   ],
   "source": [
    "# check the length first\n",
    "print(\"Original dataset length: \"+str(len(ori_data)))"
   ]
  },
  {
   "cell_type": "markdown",
   "metadata": {},
   "source": [
    "## A) Assemble a dataframe with one row per customer and the following columns:\n",
    "#### * customer_id * gender * most_recent_order_date * order_count (number of orders placed by this customer)\n",
    "#### Sort the dataframe by customer_id ascending and display the first 10 rows."
   ]
  },
  {
   "cell_type": "code",
   "execution_count": 4,
   "metadata": {},
   "outputs": [
    {
     "data": {
      "text/html": [
       "<div>\n",
       "<style scoped>\n",
       "    .dataframe tbody tr th:only-of-type {\n",
       "        vertical-align: middle;\n",
       "    }\n",
       "\n",
       "    .dataframe tbody tr th {\n",
       "        vertical-align: top;\n",
       "    }\n",
       "\n",
       "    .dataframe thead th {\n",
       "        text-align: right;\n",
       "    }\n",
       "</style>\n",
       "<table border=\"1\" class=\"dataframe\">\n",
       "  <thead>\n",
       "    <tr style=\"text-align: right;\">\n",
       "      <th></th>\n",
       "      <th></th>\n",
       "      <th>most_recent_order_date</th>\n",
       "    </tr>\n",
       "    <tr>\n",
       "      <th>customer_id</th>\n",
       "      <th>gender</th>\n",
       "      <th></th>\n",
       "    </tr>\n",
       "  </thead>\n",
       "  <tbody>\n",
       "    <tr>\n",
       "      <th>1667</th>\n",
       "      <th>0</th>\n",
       "      <td>2017-02-11 18:20:32</td>\n",
       "    </tr>\n",
       "    <tr>\n",
       "      <th>4726</th>\n",
       "      <th>1</th>\n",
       "      <td>2017-05-17 14:18:47</td>\n",
       "    </tr>\n",
       "    <tr>\n",
       "      <th>9339</th>\n",
       "      <th>1</th>\n",
       "      <td>2017-12-12 17:35:28</td>\n",
       "    </tr>\n",
       "  </tbody>\n",
       "</table>\n",
       "</div>"
      ],
      "text/plain": [
       "                   most_recent_order_date\n",
       "customer_id gender                       \n",
       "1667        0         2017-02-11 18:20:32\n",
       "4726        1         2017-05-17 14:18:47\n",
       "9339        1         2017-12-12 17:35:28"
      ]
     },
     "execution_count": 4,
     "metadata": {},
     "output_type": "execute_result"
    }
   ],
   "source": [
    "## Group rows by using customer_id and gender, and find the most_recent_order_date for each customer\n",
    "## Since 'customer_id' in the original dataset is already sorted in ascending, there is no need to resort, turn off the sort function could increase the performance.\n",
    "customer_data = pd.DataFrame(ori_data.groupby(['customer_id', 'gender'], sort=False)['date'].max()).rename(columns={'date':'most_recent_order_date'})\n",
    "customer_data.sample(3)"
   ]
  },
  {
   "cell_type": "code",
   "execution_count": 5,
   "metadata": {},
   "outputs": [
    {
     "name": "stdout",
     "output_type": "stream",
     "text": [
      "Customer dataset length: 8814\n"
     ]
    }
   ],
   "source": [
    "## check the length after grouping\n",
    "print(\"Customer dataset length: \"+str(len(customer_data)))"
   ]
  },
  {
   "cell_type": "code",
   "execution_count": 6,
   "metadata": {},
   "outputs": [
    {
     "data": {
      "text/html": [
       "<div>\n",
       "<style scoped>\n",
       "    .dataframe tbody tr th:only-of-type {\n",
       "        vertical-align: middle;\n",
       "    }\n",
       "\n",
       "    .dataframe tbody tr th {\n",
       "        vertical-align: top;\n",
       "    }\n",
       "\n",
       "    .dataframe thead th {\n",
       "        text-align: right;\n",
       "    }\n",
       "</style>\n",
       "<table border=\"1\" class=\"dataframe\">\n",
       "  <thead>\n",
       "    <tr style=\"text-align: right;\">\n",
       "      <th></th>\n",
       "      <th></th>\n",
       "      <th>most_recent_order_date</th>\n",
       "      <th>order_count</th>\n",
       "    </tr>\n",
       "    <tr>\n",
       "      <th>customer_id</th>\n",
       "      <th>gender</th>\n",
       "      <th></th>\n",
       "      <th></th>\n",
       "    </tr>\n",
       "  </thead>\n",
       "  <tbody>\n",
       "    <tr>\n",
       "      <th>5660</th>\n",
       "      <th>1</th>\n",
       "      <td>2017-06-21 13:52:45</td>\n",
       "      <td>1</td>\n",
       "    </tr>\n",
       "    <tr>\n",
       "      <th>1395</th>\n",
       "      <th>0</th>\n",
       "      <td>2017-01-14 21:25:54</td>\n",
       "      <td>1</td>\n",
       "    </tr>\n",
       "    <tr>\n",
       "      <th>2376</th>\n",
       "      <th>1</th>\n",
       "      <td>2017-02-16 19:26:40</td>\n",
       "      <td>1</td>\n",
       "    </tr>\n",
       "  </tbody>\n",
       "</table>\n",
       "</div>"
      ],
      "text/plain": [
       "                   most_recent_order_date  order_count\n",
       "customer_id gender                                    \n",
       "5660        1         2017-06-21 13:52:45            1\n",
       "1395        0         2017-01-14 21:25:54            1\n",
       "2376        1         2017-02-16 19:26:40            1"
      ]
     },
     "execution_count": 6,
     "metadata": {},
     "output_type": "execute_result"
    }
   ],
   "source": [
    "## Add order_count for each customer\n",
    "## After count values, sort the Series data by index to match the order in customer_data\n",
    "customer_data['order_count'] = ori_data['customer_id'].value_counts().sort_index().values\n",
    "customer_data.sample(3)"
   ]
  },
  {
   "cell_type": "code",
   "execution_count": 7,
   "metadata": {},
   "outputs": [
    {
     "data": {
      "text/html": [
       "<div>\n",
       "<style scoped>\n",
       "    .dataframe tbody tr th:only-of-type {\n",
       "        vertical-align: middle;\n",
       "    }\n",
       "\n",
       "    .dataframe tbody tr th {\n",
       "        vertical-align: top;\n",
       "    }\n",
       "\n",
       "    .dataframe thead th {\n",
       "        text-align: right;\n",
       "    }\n",
       "</style>\n",
       "<table border=\"1\" class=\"dataframe\">\n",
       "  <thead>\n",
       "    <tr style=\"text-align: right;\">\n",
       "      <th></th>\n",
       "      <th></th>\n",
       "      <th>most_recent_order_date</th>\n",
       "      <th>order_count</th>\n",
       "    </tr>\n",
       "    <tr>\n",
       "      <th>customer_id</th>\n",
       "      <th>gender</th>\n",
       "      <th></th>\n",
       "      <th></th>\n",
       "    </tr>\n",
       "  </thead>\n",
       "  <tbody>\n",
       "    <tr>\n",
       "      <th>1000</th>\n",
       "      <th>0</th>\n",
       "      <td>2017-01-01 00:11:31</td>\n",
       "      <td>1</td>\n",
       "    </tr>\n",
       "    <tr>\n",
       "      <th>1001</th>\n",
       "      <th>0</th>\n",
       "      <td>2017-01-01 00:29:56</td>\n",
       "      <td>1</td>\n",
       "    </tr>\n",
       "    <tr>\n",
       "      <th>1002</th>\n",
       "      <th>1</th>\n",
       "      <td>2017-02-19 21:35:31</td>\n",
       "      <td>3</td>\n",
       "    </tr>\n",
       "    <tr>\n",
       "      <th>1003</th>\n",
       "      <th>1</th>\n",
       "      <td>2017-04-26 02:37:20</td>\n",
       "      <td>4</td>\n",
       "    </tr>\n",
       "    <tr>\n",
       "      <th>1004</th>\n",
       "      <th>0</th>\n",
       "      <td>2017-01-01 03:11:54</td>\n",
       "      <td>1</td>\n",
       "    </tr>\n",
       "    <tr>\n",
       "      <th>1005</th>\n",
       "      <th>1</th>\n",
       "      <td>2017-12-16 01:39:27</td>\n",
       "      <td>2</td>\n",
       "    </tr>\n",
       "    <tr>\n",
       "      <th>1006</th>\n",
       "      <th>1</th>\n",
       "      <td>2017-05-09 15:27:20</td>\n",
       "      <td>3</td>\n",
       "    </tr>\n",
       "    <tr>\n",
       "      <th>1007</th>\n",
       "      <th>0</th>\n",
       "      <td>2017-01-01 15:59:50</td>\n",
       "      <td>1</td>\n",
       "    </tr>\n",
       "    <tr>\n",
       "      <th>1008</th>\n",
       "      <th>0</th>\n",
       "      <td>2017-12-17 05:47:48</td>\n",
       "      <td>3</td>\n",
       "    </tr>\n",
       "    <tr>\n",
       "      <th>1009</th>\n",
       "      <th>1</th>\n",
       "      <td>2017-01-01 19:27:17</td>\n",
       "      <td>1</td>\n",
       "    </tr>\n",
       "  </tbody>\n",
       "</table>\n",
       "</div>"
      ],
      "text/plain": [
       "                   most_recent_order_date  order_count\n",
       "customer_id gender                                    \n",
       "1000        0         2017-01-01 00:11:31            1\n",
       "1001        0         2017-01-01 00:29:56            1\n",
       "1002        1         2017-02-19 21:35:31            3\n",
       "1003        1         2017-04-26 02:37:20            4\n",
       "1004        0         2017-01-01 03:11:54            1\n",
       "1005        1         2017-12-16 01:39:27            2\n",
       "1006        1         2017-05-09 15:27:20            3\n",
       "1007        0         2017-01-01 15:59:50            1\n",
       "1008        0         2017-12-17 05:47:48            3\n",
       "1009        1         2017-01-01 19:27:17            1"
      ]
     },
     "execution_count": 7,
     "metadata": {},
     "output_type": "execute_result"
    }
   ],
   "source": [
    "# Sort the dataframe by customer_id ascending and display the first 10 rows.\n",
    "customer_data.head(10)"
   ]
  },
  {
   "cell_type": "markdown",
   "metadata": {},
   "source": [
    "## B) Plot the count of orders per week for the store."
   ]
  },
  {
   "cell_type": "code",
   "execution_count": 8,
   "metadata": {},
   "outputs": [
    {
     "data": {
      "text/plain": [
       "customer_id           int64\n",
       "gender                int64\n",
       "date                 object\n",
       "value               float64\n",
       "predicted_gender      int64\n",
       "dtype: object"
      ]
     },
     "execution_count": 8,
     "metadata": {},
     "output_type": "execute_result"
    }
   ],
   "source": [
    "## Since we want to count orders by week, I check the type of column 'date' first, and I found that is not suitable for datatime\n",
    "ori_data.dtypes"
   ]
  },
  {
   "cell_type": "code",
   "execution_count": 9,
   "metadata": {},
   "outputs": [
    {
     "data": {
      "text/html": [
       "<div>\n",
       "<style scoped>\n",
       "    .dataframe tbody tr th:only-of-type {\n",
       "        vertical-align: middle;\n",
       "    }\n",
       "\n",
       "    .dataframe tbody tr th {\n",
       "        vertical-align: top;\n",
       "    }\n",
       "\n",
       "    .dataframe thead th {\n",
       "        text-align: right;\n",
       "    }\n",
       "</style>\n",
       "<table border=\"1\" class=\"dataframe\">\n",
       "  <thead>\n",
       "    <tr style=\"text-align: right;\">\n",
       "      <th></th>\n",
       "      <th>date</th>\n",
       "      <th>count</th>\n",
       "    </tr>\n",
       "  </thead>\n",
       "  <tbody>\n",
       "    <tr>\n",
       "      <th>10334</th>\n",
       "      <td>2017-10-06 05:36:55</td>\n",
       "      <td>1</td>\n",
       "    </tr>\n",
       "    <tr>\n",
       "      <th>1978</th>\n",
       "      <td>2017-02-24 16:04:19</td>\n",
       "      <td>1</td>\n",
       "    </tr>\n",
       "    <tr>\n",
       "      <th>8760</th>\n",
       "      <td>2017-08-15 22:07:47</td>\n",
       "      <td>1</td>\n",
       "    </tr>\n",
       "  </tbody>\n",
       "</table>\n",
       "</div>"
      ],
      "text/plain": [
       "                     date  count\n",
       "10334 2017-10-06 05:36:55      1\n",
       "1978  2017-02-24 16:04:19      1\n",
       "8760  2017-08-15 22:07:47      1"
      ]
     },
     "execution_count": 9,
     "metadata": {},
     "output_type": "execute_result"
    }
   ],
   "source": [
    "## Since we only want to plot orders per week, I just take the date and count up each row as one order (Because we do not exclude $0 order).\n",
    "countByWeek_data = pd.concat([ori_data['date'], pd.DataFrame(index = range(len(ori_data)), columns = ['count']).fillna(1)], axis=1)\n",
    "## Change the type 'date' to datetime\n",
    "countByWeek_data['date'] = pd.to_datetime(countByWeek_data['date'])\n",
    "countByWeek_data.sample(3)"
   ]
  },
  {
   "cell_type": "code",
   "execution_count": 10,
   "metadata": {},
   "outputs": [
    {
     "data": {
      "text/plain": [
       "date     datetime64[ns]\n",
       "count             int64\n",
       "dtype: object"
      ]
     },
     "execution_count": 10,
     "metadata": {},
     "output_type": "execute_result"
    }
   ],
   "source": [
    "## Now we got the right type for date\n",
    "countByWeek_data.dtypes"
   ]
  },
  {
   "cell_type": "code",
   "execution_count": 11,
   "metadata": {},
   "outputs": [
    {
     "data": {
      "text/html": [
       "<div>\n",
       "<style scoped>\n",
       "    .dataframe tbody tr th:only-of-type {\n",
       "        vertical-align: middle;\n",
       "    }\n",
       "\n",
       "    .dataframe tbody tr th {\n",
       "        vertical-align: top;\n",
       "    }\n",
       "\n",
       "    .dataframe thead th {\n",
       "        text-align: right;\n",
       "    }\n",
       "</style>\n",
       "<table border=\"1\" class=\"dataframe\">\n",
       "  <thead>\n",
       "    <tr style=\"text-align: right;\">\n",
       "      <th></th>\n",
       "      <th>date</th>\n",
       "      <th>count</th>\n",
       "    </tr>\n",
       "    <tr>\n",
       "      <th>date</th>\n",
       "      <th></th>\n",
       "      <th></th>\n",
       "    </tr>\n",
       "  </thead>\n",
       "  <tbody>\n",
       "    <tr>\n",
       "      <th>2017-09-12</th>\n",
       "      <td>2017-09-12</td>\n",
       "      <td>1</td>\n",
       "    </tr>\n",
       "    <tr>\n",
       "      <th>2017-05-12</th>\n",
       "      <td>2017-05-12</td>\n",
       "      <td>1</td>\n",
       "    </tr>\n",
       "    <tr>\n",
       "      <th>2017-03-03</th>\n",
       "      <td>2017-03-03</td>\n",
       "      <td>1</td>\n",
       "    </tr>\n",
       "  </tbody>\n",
       "</table>\n",
       "</div>"
      ],
      "text/plain": [
       "                 date  count\n",
       "date                        \n",
       "2017-09-12 2017-09-12      1\n",
       "2017-05-12 2017-05-12      1\n",
       "2017-03-03 2017-03-03      1"
      ]
     },
     "execution_count": 11,
     "metadata": {},
     "output_type": "execute_result"
    }
   ],
   "source": [
    "## Remap the complex date format to 'days'.\n",
    "countByWeek_data['date'] = countByWeek_data['date'].apply(lambda x : datetime.datetime(year=x.year, month=x.month, day=x.day))\n",
    "## Set date as the index\n",
    "countByWeek_data.set_index(countByWeek_data['date'],inplace=True)\n",
    "countByWeek_data.sample(3)"
   ]
  },
  {
   "cell_type": "code",
   "execution_count": 12,
   "metadata": {},
   "outputs": [
    {
     "data": {
      "text/html": [
       "<div>\n",
       "<style scoped>\n",
       "    .dataframe tbody tr th:only-of-type {\n",
       "        vertical-align: middle;\n",
       "    }\n",
       "\n",
       "    .dataframe tbody tr th {\n",
       "        vertical-align: top;\n",
       "    }\n",
       "\n",
       "    .dataframe thead th {\n",
       "        text-align: right;\n",
       "    }\n",
       "</style>\n",
       "<table border=\"1\" class=\"dataframe\">\n",
       "  <thead>\n",
       "    <tr style=\"text-align: right;\">\n",
       "      <th></th>\n",
       "      <th>count</th>\n",
       "    </tr>\n",
       "    <tr>\n",
       "      <th>date</th>\n",
       "      <th></th>\n",
       "    </tr>\n",
       "  </thead>\n",
       "  <tbody>\n",
       "    <tr>\n",
       "      <th>2017-01-01</th>\n",
       "      <td>14</td>\n",
       "    </tr>\n",
       "    <tr>\n",
       "      <th>2017-01-08</th>\n",
       "      <td>180</td>\n",
       "    </tr>\n",
       "    <tr>\n",
       "      <th>2017-01-15</th>\n",
       "      <td>264</td>\n",
       "    </tr>\n",
       "    <tr>\n",
       "      <th>2017-01-22</th>\n",
       "      <td>405</td>\n",
       "    </tr>\n",
       "    <tr>\n",
       "      <th>2017-01-29</th>\n",
       "      <td>233</td>\n",
       "    </tr>\n",
       "    <tr>\n",
       "      <th>2017-02-05</th>\n",
       "      <td>211</td>\n",
       "    </tr>\n",
       "    <tr>\n",
       "      <th>2017-02-12</th>\n",
       "      <td>195</td>\n",
       "    </tr>\n",
       "    <tr>\n",
       "      <th>2017-02-19</th>\n",
       "      <td>248</td>\n",
       "    </tr>\n",
       "    <tr>\n",
       "      <th>2017-02-26</th>\n",
       "      <td>315</td>\n",
       "    </tr>\n",
       "    <tr>\n",
       "      <th>2017-03-05</th>\n",
       "      <td>260</td>\n",
       "    </tr>\n",
       "  </tbody>\n",
       "</table>\n",
       "</div>"
      ],
      "text/plain": [
       "            count\n",
       "date             \n",
       "2017-01-01     14\n",
       "2017-01-08    180\n",
       "2017-01-15    264\n",
       "2017-01-22    405\n",
       "2017-01-29    233\n",
       "2017-02-05    211\n",
       "2017-02-12    195\n",
       "2017-02-19    248\n",
       "2017-02-26    315\n",
       "2017-03-05    260"
      ]
     },
     "execution_count": 12,
     "metadata": {},
     "output_type": "execute_result"
    }
   ],
   "source": [
    "## Then resample the data by weeks\n",
    "countByWeek_data = countByWeek_data.resample('W').sum()\n",
    "countByWeek_data.head(10)"
   ]
  },
  {
   "cell_type": "code",
   "execution_count": 13,
   "metadata": {},
   "outputs": [],
   "source": [
    "## Check the length to make sure I don't lose any rows.\n",
    "assert int(countByWeek_data.sum()) == len(ori_data), \"Lost rows!\""
   ]
  },
  {
   "cell_type": "code",
   "execution_count": 14,
   "metadata": {},
   "outputs": [],
   "source": [
    "# Convert index from datetime to string for a better looking in bar plot.\n",
    "countByWeek_data.set_index(countByWeek_data.index.strftime('%m/%d/%Y').values, inplace=True)"
   ]
  },
  {
   "cell_type": "code",
   "execution_count": 15,
   "metadata": {},
   "outputs": [
    {
     "data": {
      "image/png": "[encoded data removed]",
      "text/plain": [
       "<Figure size 2160x864 with 1 Axes>"
      ]
     },
     "metadata": {
      "needs_background": "light"
     },
     "output_type": "display_data"
    }
   ],
   "source": [
    "plt.figure(figsize=(30,12))\n",
    "ax = sns.barplot(x=countByWeek_data.index, y=countByWeek_data['count'])\n",
    "plt.xticks(rotation=65,\n",
    "           horizontalalignment='right',\n",
    "           fontweight='light',\n",
    "           fontsize='x-large'  )\n",
    "plt.yticks(fontweight='light',\n",
    "           fontsize='x-large')\n",
    "for p in ax.patches: ax.annotate(np.round(p.get_height(),decimals=2), (p.get_x()+p.get_width()/2., p.get_height()), ha='center', va='center', xytext=(0, 10), textcoords='offset points')"
   ]
  },
  {
   "cell_type": "markdown",
   "metadata": {},
   "source": [
    "## C) Compute the mean order value for gender 0 and for gender 1. Do you think the difference is significant? Justify your choice of method."
   ]
  },
  {
   "cell_type": "code",
   "execution_count": 16,
   "metadata": {},
   "outputs": [
    {
     "name": "stdout",
     "output_type": "stream",
     "text": [
      "The MEAN order value made by gender 0: 363.89\n",
      "The MEAN order value made by gender 1: 350.71\n"
     ]
    }
   ],
   "source": [
    "mean_gender = ori_data.groupby(['gender'], sort=False)['value'].mean()\n",
    "gender_0_mean = round(mean_gender[0], 2)\n",
    "gender_1_mean = round(mean_gender[1], 2)\n",
    "print(\"The MEAN order value made by gender 0: \" + str(gender_0_mean))\n",
    "print(\"The MEAN order value made by gender 1: \" + str(gender_1_mean))"
   ]
  },
  {
   "cell_type": "code",
   "execution_count": 17,
   "metadata": {},
   "outputs": [],
   "source": [
    "## My first idea among these two genders is that the difference is very limited, from population variance to the total value.\n",
    "## In order to justify this opinion, I would use the 2 tailed T-test.\n",
    "\n",
    "## Null Hypothesis: The mean order values made by two genders are equal.\n",
    "## Alternative Hypothesis: The mean order values made by two genders are NOT equal.\n",
    "## Significance Value: 5%"
   ]
  },
  {
   "cell_type": "code",
   "execution_count": 18,
   "metadata": {},
   "outputs": [
    {
     "name": "stdout",
     "output_type": "stream",
     "text": [
      "The number of orders made by gender 0: 6759\n",
      "The number of orders made by gender 1: 6712\n",
      "The standard deviation of order value made by gender 0: 396.53321516246115\n",
      "The standard deviation of order value made by gender 1: 377.50473748671084\n"
     ]
    }
   ],
   "source": [
    "## Before I do the 2 tailed test, I would like to get an overall view of sample sizes and variances.\n",
    "gender_1_count = ori_data['gender'].sum()\n",
    "gender_0_count = len(ori_data) - gender_1_count\n",
    "print(\"The number of orders made by gender 0: \" + str(gender_0_count))\n",
    "print(\"The number of orders made by gender 1: \" + str(gender_1_count))\n",
    "var_gender = ori_data.groupby(['gender'], sort=False)['value'].std()\n",
    "print(\"The standard deviation of order value made by gender 0: \" + str(var_gender[0]))\n",
    "print(\"The standard deviation of order value made by gender 1: \" + str(var_gender[1]))"
   ]
  },
  {
   "cell_type": "code",
   "execution_count": 19,
   "metadata": {},
   "outputs": [
    {
     "data": {
      "text/plain": [
       "Ttest_indResult(statistic=1.976107933576866, pvalue=0.04816296295128402)"
      ]
     },
     "execution_count": 19,
     "metadata": {},
     "output_type": "execute_result"
    }
   ],
   "source": [
    "## Since I got different sample sizes and variances, I would like to use Welch's test.\n",
    "ttest_ind(ori_data.loc[ori_data['gender']==0]['value'], ori_data.loc[ori_data['gender']==1]['value'], equal_var=False)"
   ]
  },
  {
   "cell_type": "code",
   "execution_count": 20,
   "metadata": {},
   "outputs": [],
   "source": [
    "## The pvalue = 0.04816296295128402 which is less than my significant value 5%. \n",
    "## Therefore, I would take Alternative Hypothesis rather than Null Hypothesis.\n",
    "## The mean order values made by two genders are NOT equal."
   ]
  },
  {
   "cell_type": "markdown",
   "metadata": {},
   "source": [
    "## D) Generate a confusion matrix for the gender predictions of customers in this dataset. You should assume that there is only one gender prediction for each customer. What does the confusion matrix tell you about the quality of the predictions?"
   ]
  },
  {
   "cell_type": "code",
   "execution_count": 21,
   "metadata": {},
   "outputs": [
    {
     "data": {
      "text/plain": [
       "<matplotlib.axes._subplots.AxesSubplot at 0x7fa295d19358>"
      ]
     },
     "execution_count": 21,
     "metadata": {},
     "output_type": "execute_result"
    },
    {
     "data": {
      "image/png": "[encoded data removed]",
      "text/plain": [
       "<Figure size 1152x720 with 2 Axes>"
      ]
     },
     "metadata": {
      "needs_background": "light"
     },
     "output_type": "display_data"
    }
   ],
   "source": [
    "tn, fp, fn, tp = confusion_matrix(ori_data['gender'], ori_data['predicted_gender']).ravel()\n",
    "plt.figure(figsize = (16,10))\n",
    "labels=np.array([['True_Gender_1\\n'+str(tn), 'False_Gender_1\\n'+str(fp)], ['False_Gender_0\\n'+str(fn), 'True_Gender_0\\n'+str(tp)]])\n",
    "sns.heatmap(pd.DataFrame(confusion_matrix(ori_data['gender'], ori_data['predicted_gender'])), \n",
    "            annot=labels, fmt='', linewidth=0.5, annot_kws={'size':20})"
   ]
  },
  {
   "cell_type": "code",
   "execution_count": 22,
   "metadata": {},
   "outputs": [
    {
     "name": "stdout",
     "output_type": "stream",
     "text": [
      "Accuracy: 0.6382599658525722\n",
      "Precision: 0.6061900912345537\n",
      "Recall: 0.7820321811680572\n",
      "Specificity: 0.495487498150614\n",
      "F1 Score: 0.6829744323726498\n"
     ]
    }
   ],
   "source": [
    "## Accuracy\n",
    "accuracy = (tp + tn)/(tn + fp + fn + tp)\n",
    "print(\"Accuracy: \" + str(accuracy))\n",
    "\n",
    "## Precision\n",
    "precision = tp / (tp + fp)\n",
    "print(\"Precision: \" + str(precision))\n",
    "\n",
    "## Recall (Sensitivity)\n",
    "recall = tp / (tp + fn)\n",
    "print(\"Recall: \" + str(recall))\n",
    "\n",
    "## Specificity\n",
    "specificity = tn / (tn + fp)\n",
    "print(\"Specificity: \" + str(specificity))\n",
    "\n",
    "## F1 score\n",
    "f1 = 2 * (recall * precision) / (recall + precision)\n",
    "print(\"F1 Score: \" + str(f1))"
   ]
  },
  {
   "cell_type": "code",
   "execution_count": 23,
   "metadata": {},
   "outputs": [],
   "source": [
    "## As the result above, I can see a huge difference between recall and specificity \n",
    "##     which indicates the current model predicts gender 1 much better than gender 0.\n",
    "## If the model is used to predict(or recommend) business(or merchandise) for gender 1, \n",
    "##     and we don't care about the wrong push for gender 0, we want to find and send recommendations to gender 1 as much as possible,\n",
    "##     I would say the current model made a decent job (if the current recall is the highest we can get).\n",
    "## Otherwise, the current model has a huge bias and must to fixed immediately. \n",
    "\n",
    "## Second, according to the difference between precision and recall, I think there is still has some room for improvement of the F1 score.\n",
    "## If we want a more balanced model, try different threshold settings to get a higher F1 score."
   ]
  },
  {
   "cell_type": "markdown",
   "metadata": {},
   "source": [
    "## E) Describe one of your favorite tools or techniques and give a small example of how it's helped you solve a problem. Limit your answer to one paragraph, and please be specific."
   ]
  },
  {
   "cell_type": "code",
   "execution_count": 25,
   "metadata": {},
   "outputs": [],
   "source": [
    "## My favorite tool is Sagemaker. It is a very powerful tool for machine learning engineer. \n",
    "## Not only can we use AWS online computing resources, but also we could easily interact with our model. Especially for the ML model, because we need to adjust hyperparameters many times.\n",
    "## I would like to show a simple case that Sagemaker helps me to tune my model and find the best for me by using HyperparameterTuner."
   ]
  },
  {
   "cell_type": "code",
   "execution_count": null,
   "metadata": {},
   "outputs": [],
   "source": [
    "## Let's say we finished preprocessing data and successfully extracted the proper features for modeling.\n",
    "## And then we separated them into train, validation, and test datasets.\n",
    "data_dir = ''\n",
    "train_data = 'xxx.csv'\n",
    "valid_data = 'xxx.csv'\n",
    "test_data = 'xxx.csv'\n",
    "\n",
    "## Then we upload them to S3 in order to access directly by Sagemaker\n",
    "import sagemaker\n",
    "session = sagemaker.Session()\n",
    "prefix = 'screening-test'\n",
    "test_location = session.upload_data(os.path.join(data_dir, test_data), key_prefix=prefix)\n",
    "val_location = session.upload_data(os.path.join(data_dir, valid_data), key_prefix=prefix)\n",
    "train_location = session.upload_data(os.path.join(data_dir, train_data), key_prefix=prefix)"
   ]
  },
  {
   "cell_type": "code",
   "execution_count": null,
   "metadata": {},
   "outputs": [],
   "source": [
    "from sagemaker import get_execution_role\n",
    "role = get_execution_role()\n",
    "from sagemaker.amazon.amazon_estimator import get_image_uri\n",
    "container = get_image_uri(session.boto_region_name, 'xgboost')\n",
    "\n",
    "## Create ML model\n",
    "xgb = sagemaker.estimator.Estimator(container,\n",
    "                                    role,\n",
    "                                    train_instance_count=1,\n",
    "                                    train_instance_type='ml.m4.xlarge',\n",
    "                                    output_path='s3://{}/{}/output'.format(session.default_bucket(), prefix),\n",
    "                                    sagemaker_session=session)\n",
    "## And then set an initial hyperparameter\n",
    "xgb.set_hyperparameters(max_depth=5,\n",
    "                        eta=0.2,\n",
    "                        gamma=4,\n",
    "                        min_child_weight=6,\n",
    "                        subsample=0.8,\n",
    "                        silent=0,\n",
    "                        objective='binary:logistic',\n",
    "                        early_stopping_rounds=10,\n",
    "                        num_round=500)\n",
    "\n",
    "## Create the hyperparameter tuner\n",
    "from sagemaker.tuner import IntegerParameter, ContinuousParameter, HyperparameterTuner\n",
    "xgb_hyperparameter_tuner = HyperparameterTuner(estimator = xgb,\n",
    "                                               objective_metric_name = 'validation:rmse',\n",
    "                                               objective_type = 'Minimize',\n",
    "                                               max_jobs = 6,\n",
    "                                               max_parallel_jobs = 3,\n",
    "                                               hyperparameter_ranges = {\n",
    "                                                    'max_depth': IntegerParameter(3, 12),\n",
    "                                                    'eta'      : ContinuousParameter(0.05, 0.5),\n",
    "                                                    'min_child_weight': IntegerParameter(2, 8),\n",
    "                                                    'subsample': ContinuousParameter(0.5, 0.9),\n",
    "                                                    'gamma': ContinuousParameter(0, 10),\n",
    "                                               })"
   ]
  },
  {
   "cell_type": "code",
   "execution_count": null,
   "metadata": {},
   "outputs": [],
   "source": [
    "## Fit the hyperparameter tuner\n",
    "s3_input_train = sagemaker.s3_input(s3_data=train_location, content_type='csv')\n",
    "s3_input_validation = sagemaker.s3_input(s3_data=val_location, content_type='csv')\n",
    "xgb_hyperparameter_tuner.fit({'train': s3_input_train, 'validation': s3_input_validation})\n",
    "xgb_hyperparameter_tuner.wait()"
   ]
  },
  {
   "cell_type": "code",
   "execution_count": null,
   "metadata": {},
   "outputs": [],
   "source": [
    "## Since I don't have real data to train, I paste some logs from my elder model."
   ]
  },
  {
   "cell_type": "markdown",
   "metadata": {},
   "source": [
    "Name Status Objective metric value Creation time Training Duration\n",
    "\n",
    "sagemaker-xgboost-200720-0250-020-d3493ac5\tCompleted 0.31255999207496643\tJul 20, 2020 03:45 UTC\t6 minute(s)\n",
    "\n",
    "sagemaker-xgboost-200720-0250-019-333013a9\tCompleted 0.31870999932289124\tJul 20, 2020 03:42 UTC\t4 minute(s)\n",
    "\n",
    "sagemaker-xgboost-200720-0250-018-7b9b2b42\tCompleted 0.32662999629974365\tJul 20, 2020 03:40 UTC\t9 minute(s)\n",
    "\n",
    "sagemaker-xgboost-200720-0250-017-cf1f871e\tCompleted 0.31321001052856445\tJul 20, 2020 03:36 UTC\t4 minute(s)\n",
    "\n",
    "sagemaker-xgboost-200720-0250-016-9f335187\tCompleted 0.3133000135421753\tJul 20, 2020 03:34 UTC\t9 minute(s)\n",
    "\n",
    "sagemaker-xgboost-200720-0250-015-02a7ceb5\tCompleted 0.32071998715400696\tJul 20, 2020 03:32 UTC\t6 minute(s)\n",
    "\n",
    "sagemaker-xgboost-200720-0250-014-77492d0f\tCompleted 0.3159399926662445\tJul 20, 2020 03:26 UTC\t7 minute(s)\n",
    "\n",
    "sagemaker-xgboost-200720-0250-013-74bd4033\tCompleted 0.31652000546455383\tJul 20, 2020 03:23 UTC\t6 minute(s)\n",
    "\n",
    "sagemaker-xgboost-200720-0250-012-ee9a08e4\tCompleted 0.3098300099372864\tJul 20, 2020 03:23 UTC\t8 minute(s)\n",
    "\n",
    "sagemaker-xgboost-200720-0250-011-e49454d7\tCompleted 0.31707000732421875\tJul 20, 2020 03:15 UTC\t7 minute(s)"
   ]
  }
 ],
 "metadata": {
  "kernelspec": {
   "display_name": "conda_amazonei_mxnet_p36",
   "language": "python",
   "name": "conda_amazonei_mxnet_p36"
  },
  "language_info": {
   "codemirror_mode": {
    "name": "ipython",
    "version": 3
   },
   "file_extension": ".py",
   "mimetype": "text/x-python",
   "name": "python",
   "nbconvert_exporter": "python",
   "pygments_lexer": "ipython3",
   "version": "3.6.10"
  }
 },
 "nbformat": 4,
 "nbformat_minor": 4
}

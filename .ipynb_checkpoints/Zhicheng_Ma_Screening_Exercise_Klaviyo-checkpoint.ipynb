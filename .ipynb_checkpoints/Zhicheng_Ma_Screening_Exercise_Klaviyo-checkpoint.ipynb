{
 "cells": [
  {
   "cell_type": "markdown",
   "metadata": {},
   "source": [
    "## 0. Dependency Libraries "
   ]
  },
  {
   "cell_type": "code",
   "execution_count": 71,
   "metadata": {},
   "outputs": [],
   "source": [
    "import os\n",
    "import numpy as np\n",
    "import pandas as pd\n",
    "%matplotlib inline\n",
    "import matplotlib.pyplot as plt\n",
    "import seaborn as sns\n",
    "import datetime"
   ]
  },
  {
   "cell_type": "code",
   "execution_count": 3,
   "metadata": {},
   "outputs": [
    {
     "data": {
      "text/html": [
       "<div>\n",
       "<style scoped>\n",
       "    .dataframe tbody tr th:only-of-type {\n",
       "        vertical-align: middle;\n",
       "    }\n",
       "\n",
       "    .dataframe tbody tr th {\n",
       "        vertical-align: top;\n",
       "    }\n",
       "\n",
       "    .dataframe thead th {\n",
       "        text-align: right;\n",
       "    }\n",
       "</style>\n",
       "<table border=\"1\" class=\"dataframe\">\n",
       "  <thead>\n",
       "    <tr style=\"text-align: right;\">\n",
       "      <th></th>\n",
       "      <th>customer_id</th>\n",
       "      <th>gender</th>\n",
       "      <th>date</th>\n",
       "      <th>value</th>\n",
       "      <th>predicted_gender</th>\n",
       "    </tr>\n",
       "  </thead>\n",
       "  <tbody>\n",
       "    <tr>\n",
       "      <th>0</th>\n",
       "      <td>1000</td>\n",
       "      <td>0</td>\n",
       "      <td>2017-01-01 00:11:31</td>\n",
       "      <td>198.50</td>\n",
       "      <td>1</td>\n",
       "    </tr>\n",
       "    <tr>\n",
       "      <th>1</th>\n",
       "      <td>1001</td>\n",
       "      <td>0</td>\n",
       "      <td>2017-01-01 00:29:56</td>\n",
       "      <td>338.00</td>\n",
       "      <td>1</td>\n",
       "    </tr>\n",
       "    <tr>\n",
       "      <th>2</th>\n",
       "      <td>1002</td>\n",
       "      <td>1</td>\n",
       "      <td>2017-01-01 01:30:31</td>\n",
       "      <td>733.00</td>\n",
       "      <td>1</td>\n",
       "    </tr>\n",
       "    <tr>\n",
       "      <th>3</th>\n",
       "      <td>1003</td>\n",
       "      <td>1</td>\n",
       "      <td>2017-01-01 01:34:22</td>\n",
       "      <td>772.00</td>\n",
       "      <td>1</td>\n",
       "    </tr>\n",
       "    <tr>\n",
       "      <th>4</th>\n",
       "      <td>1004</td>\n",
       "      <td>0</td>\n",
       "      <td>2017-01-01 03:11:54</td>\n",
       "      <td>508.00</td>\n",
       "      <td>1</td>\n",
       "    </tr>\n",
       "    <tr>\n",
       "      <th>5</th>\n",
       "      <td>1005</td>\n",
       "      <td>1</td>\n",
       "      <td>2017-01-01 10:08:05</td>\n",
       "      <td>338.00</td>\n",
       "      <td>0</td>\n",
       "    </tr>\n",
       "    <tr>\n",
       "      <th>6</th>\n",
       "      <td>1006</td>\n",
       "      <td>1</td>\n",
       "      <td>2017-01-01 15:42:57</td>\n",
       "      <td>1526.43</td>\n",
       "      <td>1</td>\n",
       "    </tr>\n",
       "    <tr>\n",
       "      <th>7</th>\n",
       "      <td>1007</td>\n",
       "      <td>0</td>\n",
       "      <td>2017-01-01 15:59:50</td>\n",
       "      <td>168.00</td>\n",
       "      <td>0</td>\n",
       "    </tr>\n",
       "    <tr>\n",
       "      <th>8</th>\n",
       "      <td>1008</td>\n",
       "      <td>0</td>\n",
       "      <td>2017-01-01 18:01:04</td>\n",
       "      <td>207.99</td>\n",
       "      <td>0</td>\n",
       "    </tr>\n",
       "    <tr>\n",
       "      <th>9</th>\n",
       "      <td>1009</td>\n",
       "      <td>1</td>\n",
       "      <td>2017-01-01 19:27:17</td>\n",
       "      <td>283.00</td>\n",
       "      <td>1</td>\n",
       "    </tr>\n",
       "  </tbody>\n",
       "</table>\n",
       "</div>"
      ],
      "text/plain": [
       "   customer_id  gender                 date    value  predicted_gender\n",
       "0         1000       0  2017-01-01 00:11:31   198.50                 1\n",
       "1         1001       0  2017-01-01 00:29:56   338.00                 1\n",
       "2         1002       1  2017-01-01 01:30:31   733.00                 1\n",
       "3         1003       1  2017-01-01 01:34:22   772.00                 1\n",
       "4         1004       0  2017-01-01 03:11:54   508.00                 1\n",
       "5         1005       1  2017-01-01 10:08:05   338.00                 0\n",
       "6         1006       1  2017-01-01 15:42:57  1526.43                 1\n",
       "7         1007       0  2017-01-01 15:59:50   168.00                 0\n",
       "8         1008       0  2017-01-01 18:01:04   207.99                 0\n",
       "9         1009       1  2017-01-01 19:27:17   283.00                 1"
      ]
     },
     "execution_count": 3,
     "metadata": {},
     "output_type": "execute_result"
    }
   ],
   "source": [
    "# Read the original dataset\n",
    "data_dir = ''\n",
    "file_path = 'screening_exercise_orders_v201810.csv'\n",
    "ori_data = pd.read_csv(os.path.join(data_dir, file_path), header = 0)\n",
    "ori_data.head(10)"
   ]
  },
  {
   "cell_type": "code",
   "execution_count": 4,
   "metadata": {},
   "outputs": [
    {
     "name": "stdout",
     "output_type": "stream",
     "text": [
      "Original dataset length: 13471\n"
     ]
    }
   ],
   "source": [
    "# check the length first\n",
    "print(\"Original dataset length: \"+str(len(ori_data)))"
   ]
  },
  {
   "cell_type": "markdown",
   "metadata": {},
   "source": [
    "## A) Assemble a dataframe with one row per customer and the following columns:\n",
    "#### * customer_id * gender * most_recent_order_date * order_count (number of orders placed by this customer)\n",
    "#### Sort the dataframe by customer_id ascending and display the first 10 rows."
   ]
  },
  {
   "cell_type": "code",
   "execution_count": 5,
   "metadata": {},
   "outputs": [
    {
     "data": {
      "text/html": [
       "<div>\n",
       "<style scoped>\n",
       "    .dataframe tbody tr th:only-of-type {\n",
       "        vertical-align: middle;\n",
       "    }\n",
       "\n",
       "    .dataframe tbody tr th {\n",
       "        vertical-align: top;\n",
       "    }\n",
       "\n",
       "    .dataframe thead th {\n",
       "        text-align: right;\n",
       "    }\n",
       "</style>\n",
       "<table border=\"1\" class=\"dataframe\">\n",
       "  <thead>\n",
       "    <tr style=\"text-align: right;\">\n",
       "      <th></th>\n",
       "      <th></th>\n",
       "      <th>most_recent_order_date</th>\n",
       "    </tr>\n",
       "    <tr>\n",
       "      <th>customer_id</th>\n",
       "      <th>gender</th>\n",
       "      <th></th>\n",
       "    </tr>\n",
       "  </thead>\n",
       "  <tbody>\n",
       "    <tr>\n",
       "      <th>5790</th>\n",
       "      <th>1</th>\n",
       "      <td>2017-08-25 11:24:30</td>\n",
       "    </tr>\n",
       "    <tr>\n",
       "      <th>1199</th>\n",
       "      <th>1</th>\n",
       "      <td>2017-01-09 17:19:24</td>\n",
       "    </tr>\n",
       "    <tr>\n",
       "      <th>8310</th>\n",
       "      <th>0</th>\n",
       "      <td>2017-11-26 19:48:21</td>\n",
       "    </tr>\n",
       "  </tbody>\n",
       "</table>\n",
       "</div>"
      ],
      "text/plain": [
       "                   most_recent_order_date\n",
       "customer_id gender                       \n",
       "5790        1         2017-08-25 11:24:30\n",
       "1199        1         2017-01-09 17:19:24\n",
       "8310        0         2017-11-26 19:48:21"
      ]
     },
     "execution_count": 5,
     "metadata": {},
     "output_type": "execute_result"
    }
   ],
   "source": [
    "# Group rows by using customer_id and gender, and find the most_recent_order_date for each customer\n",
    "## Since 'customer_id' in the original dataset is already sorted in ascending, there is no need to resort, turn off the sort function could increase the performance.\n",
    "customer_data = pd.DataFrame(ori_data.groupby(['customer_id', 'gender'], sort=False)['date'].max()).rename(columns={'date':'most_recent_order_date'})\n",
    "customer_data.sample(3)"
   ]
  },
  {
   "cell_type": "code",
   "execution_count": 7,
   "metadata": {},
   "outputs": [
    {
     "name": "stdout",
     "output_type": "stream",
     "text": [
      "Customer dataset length: 8814\n"
     ]
    }
   ],
   "source": [
    "# check the length after grouping\n",
    "print(\"Customer dataset length: \"+str(len(customer_data)))"
   ]
  },
  {
   "cell_type": "code",
   "execution_count": 8,
   "metadata": {},
   "outputs": [
    {
     "data": {
      "text/html": [
       "<div>\n",
       "<style scoped>\n",
       "    .dataframe tbody tr th:only-of-type {\n",
       "        vertical-align: middle;\n",
       "    }\n",
       "\n",
       "    .dataframe tbody tr th {\n",
       "        vertical-align: top;\n",
       "    }\n",
       "\n",
       "    .dataframe thead th {\n",
       "        text-align: right;\n",
       "    }\n",
       "</style>\n",
       "<table border=\"1\" class=\"dataframe\">\n",
       "  <thead>\n",
       "    <tr style=\"text-align: right;\">\n",
       "      <th></th>\n",
       "      <th></th>\n",
       "      <th>most_recent_order_date</th>\n",
       "      <th>order_count</th>\n",
       "    </tr>\n",
       "    <tr>\n",
       "      <th>customer_id</th>\n",
       "      <th>gender</th>\n",
       "      <th></th>\n",
       "      <th></th>\n",
       "    </tr>\n",
       "  </thead>\n",
       "  <tbody>\n",
       "    <tr>\n",
       "      <th>3752</th>\n",
       "      <th>0</th>\n",
       "      <td>2017-12-01 14:24:40</td>\n",
       "      <td>3</td>\n",
       "    </tr>\n",
       "    <tr>\n",
       "      <th>3410</th>\n",
       "      <th>0</th>\n",
       "      <td>2017-04-28 10:37:34</td>\n",
       "      <td>3</td>\n",
       "    </tr>\n",
       "    <tr>\n",
       "      <th>2163</th>\n",
       "      <th>0</th>\n",
       "      <td>2017-02-06 21:25:22</td>\n",
       "      <td>1</td>\n",
       "    </tr>\n",
       "  </tbody>\n",
       "</table>\n",
       "</div>"
      ],
      "text/plain": [
       "                   most_recent_order_date  order_count\n",
       "customer_id gender                                    \n",
       "3752        0         2017-12-01 14:24:40            3\n",
       "3410        0         2017-04-28 10:37:34            3\n",
       "2163        0         2017-02-06 21:25:22            1"
      ]
     },
     "execution_count": 8,
     "metadata": {},
     "output_type": "execute_result"
    }
   ],
   "source": [
    "# Add order_count for each customer\n",
    "## After count values, sort the Series data by index to match the order in customer_data\n",
    "customer_data['order_count'] = ori_data['customer_id'].value_counts().sort_index().values\n",
    "customer_data.sample(3)"
   ]
  },
  {
   "cell_type": "code",
   "execution_count": 9,
   "metadata": {},
   "outputs": [
    {
     "data": {
      "text/html": [
       "<div>\n",
       "<style scoped>\n",
       "    .dataframe tbody tr th:only-of-type {\n",
       "        vertical-align: middle;\n",
       "    }\n",
       "\n",
       "    .dataframe tbody tr th {\n",
       "        vertical-align: top;\n",
       "    }\n",
       "\n",
       "    .dataframe thead th {\n",
       "        text-align: right;\n",
       "    }\n",
       "</style>\n",
       "<table border=\"1\" class=\"dataframe\">\n",
       "  <thead>\n",
       "    <tr style=\"text-align: right;\">\n",
       "      <th></th>\n",
       "      <th></th>\n",
       "      <th>most_recent_order_date</th>\n",
       "      <th>order_count</th>\n",
       "    </tr>\n",
       "    <tr>\n",
       "      <th>customer_id</th>\n",
       "      <th>gender</th>\n",
       "      <th></th>\n",
       "      <th></th>\n",
       "    </tr>\n",
       "  </thead>\n",
       "  <tbody>\n",
       "    <tr>\n",
       "      <th>1000</th>\n",
       "      <th>0</th>\n",
       "      <td>2017-01-01 00:11:31</td>\n",
       "      <td>1</td>\n",
       "    </tr>\n",
       "    <tr>\n",
       "      <th>1001</th>\n",
       "      <th>0</th>\n",
       "      <td>2017-01-01 00:29:56</td>\n",
       "      <td>1</td>\n",
       "    </tr>\n",
       "    <tr>\n",
       "      <th>1002</th>\n",
       "      <th>1</th>\n",
       "      <td>2017-02-19 21:35:31</td>\n",
       "      <td>3</td>\n",
       "    </tr>\n",
       "    <tr>\n",
       "      <th>1003</th>\n",
       "      <th>1</th>\n",
       "      <td>2017-04-26 02:37:20</td>\n",
       "      <td>4</td>\n",
       "    </tr>\n",
       "    <tr>\n",
       "      <th>1004</th>\n",
       "      <th>0</th>\n",
       "      <td>2017-01-01 03:11:54</td>\n",
       "      <td>1</td>\n",
       "    </tr>\n",
       "    <tr>\n",
       "      <th>1005</th>\n",
       "      <th>1</th>\n",
       "      <td>2017-12-16 01:39:27</td>\n",
       "      <td>2</td>\n",
       "    </tr>\n",
       "    <tr>\n",
       "      <th>1006</th>\n",
       "      <th>1</th>\n",
       "      <td>2017-05-09 15:27:20</td>\n",
       "      <td>3</td>\n",
       "    </tr>\n",
       "    <tr>\n",
       "      <th>1007</th>\n",
       "      <th>0</th>\n",
       "      <td>2017-01-01 15:59:50</td>\n",
       "      <td>1</td>\n",
       "    </tr>\n",
       "    <tr>\n",
       "      <th>1008</th>\n",
       "      <th>0</th>\n",
       "      <td>2017-12-17 05:47:48</td>\n",
       "      <td>3</td>\n",
       "    </tr>\n",
       "    <tr>\n",
       "      <th>1009</th>\n",
       "      <th>1</th>\n",
       "      <td>2017-01-01 19:27:17</td>\n",
       "      <td>1</td>\n",
       "    </tr>\n",
       "  </tbody>\n",
       "</table>\n",
       "</div>"
      ],
      "text/plain": [
       "                   most_recent_order_date  order_count\n",
       "customer_id gender                                    \n",
       "1000        0         2017-01-01 00:11:31            1\n",
       "1001        0         2017-01-01 00:29:56            1\n",
       "1002        1         2017-02-19 21:35:31            3\n",
       "1003        1         2017-04-26 02:37:20            4\n",
       "1004        0         2017-01-01 03:11:54            1\n",
       "1005        1         2017-12-16 01:39:27            2\n",
       "1006        1         2017-05-09 15:27:20            3\n",
       "1007        0         2017-01-01 15:59:50            1\n",
       "1008        0         2017-12-17 05:47:48            3\n",
       "1009        1         2017-01-01 19:27:17            1"
      ]
     },
     "execution_count": 9,
     "metadata": {},
     "output_type": "execute_result"
    }
   ],
   "source": [
    "# Sort the dataframe by customer_id ascending and display the first 10 rows.\n",
    "customer_data.head(10)"
   ]
  },
  {
   "cell_type": "markdown",
   "metadata": {},
   "source": [
    "## B) Plot the count of orders per week for the store."
   ]
  },
  {
   "cell_type": "code",
   "execution_count": 46,
   "metadata": {},
   "outputs": [
    {
     "data": {
      "text/plain": [
       "customer_id           int64\n",
       "gender                int64\n",
       "date                 object\n",
       "value               float64\n",
       "predicted_gender      int64\n",
       "dtype: object"
      ]
     },
     "execution_count": 46,
     "metadata": {},
     "output_type": "execute_result"
    }
   ],
   "source": [
    "## Since we want to count orders by week, I check the type of column 'date' first, and I found that is not suitable for datatime\n",
    "ori_data.dtypes"
   ]
  },
  {
   "cell_type": "code",
   "execution_count": 47,
   "metadata": {},
   "outputs": [
    {
     "data": {
      "text/html": [
       "<div>\n",
       "<style scoped>\n",
       "    .dataframe tbody tr th:only-of-type {\n",
       "        vertical-align: middle;\n",
       "    }\n",
       "\n",
       "    .dataframe tbody tr th {\n",
       "        vertical-align: top;\n",
       "    }\n",
       "\n",
       "    .dataframe thead th {\n",
       "        text-align: right;\n",
       "    }\n",
       "</style>\n",
       "<table border=\"1\" class=\"dataframe\">\n",
       "  <thead>\n",
       "    <tr style=\"text-align: right;\">\n",
       "      <th></th>\n",
       "      <th>date</th>\n",
       "      <th>count</th>\n",
       "    </tr>\n",
       "  </thead>\n",
       "  <tbody>\n",
       "    <tr>\n",
       "      <th>2851</th>\n",
       "      <td>2017-03-18 00:28:43</td>\n",
       "      <td>1</td>\n",
       "    </tr>\n",
       "    <tr>\n",
       "      <th>8140</th>\n",
       "      <td>2017-07-23 22:36:00</td>\n",
       "      <td>1</td>\n",
       "    </tr>\n",
       "    <tr>\n",
       "      <th>9314</th>\n",
       "      <td>2017-08-31 00:41:38</td>\n",
       "      <td>1</td>\n",
       "    </tr>\n",
       "  </tbody>\n",
       "</table>\n",
       "</div>"
      ],
      "text/plain": [
       "                    date  count\n",
       "2851 2017-03-18 00:28:43      1\n",
       "8140 2017-07-23 22:36:00      1\n",
       "9314 2017-08-31 00:41:38      1"
      ]
     },
     "execution_count": 47,
     "metadata": {},
     "output_type": "execute_result"
    }
   ],
   "source": [
    "## Since we only want to plot orders per week, I just take date and count each row as one order.\n",
    "countByWeek_data = pd.concat([ori_data['date'], pd.DataFrame(index = range(len(ori_data)), columns = ['count']).fillna(1)], axis=1)\n",
    "## Change the 'date' type to datetime\n",
    "countByWeek_data['date'] = pd.to_datetime(countByWeek_data['date'])\n",
    "countByWeek_data.sample(3)"
   ]
  },
  {
   "cell_type": "code",
   "execution_count": 48,
   "metadata": {},
   "outputs": [
    {
     "data": {
      "text/plain": [
       "date     datetime64[ns]\n",
       "count             int64\n",
       "dtype: object"
      ]
     },
     "execution_count": 48,
     "metadata": {},
     "output_type": "execute_result"
    }
   ],
   "source": [
    "## Now we got the right type for date\n",
    "countByWeek_data.dtypes"
   ]
  },
  {
   "cell_type": "code",
   "execution_count": 55,
   "metadata": {},
   "outputs": [
    {
     "data": {
      "text/html": [
       "<div>\n",
       "<style scoped>\n",
       "    .dataframe tbody tr th:only-of-type {\n",
       "        vertical-align: middle;\n",
       "    }\n",
       "\n",
       "    .dataframe tbody tr th {\n",
       "        vertical-align: top;\n",
       "    }\n",
       "\n",
       "    .dataframe thead th {\n",
       "        text-align: right;\n",
       "    }\n",
       "</style>\n",
       "<table border=\"1\" class=\"dataframe\">\n",
       "  <thead>\n",
       "    <tr style=\"text-align: right;\">\n",
       "      <th></th>\n",
       "      <th>date</th>\n",
       "      <th>count</th>\n",
       "    </tr>\n",
       "    <tr>\n",
       "      <th>date</th>\n",
       "      <th></th>\n",
       "      <th></th>\n",
       "    </tr>\n",
       "  </thead>\n",
       "  <tbody>\n",
       "    <tr>\n",
       "      <th>2017-08-13</th>\n",
       "      <td>2017-08-13</td>\n",
       "      <td>1</td>\n",
       "    </tr>\n",
       "    <tr>\n",
       "      <th>2017-05-17</th>\n",
       "      <td>2017-05-17</td>\n",
       "      <td>1</td>\n",
       "    </tr>\n",
       "    <tr>\n",
       "      <th>2017-03-06</th>\n",
       "      <td>2017-03-06</td>\n",
       "      <td>1</td>\n",
       "    </tr>\n",
       "  </tbody>\n",
       "</table>\n",
       "</div>"
      ],
      "text/plain": [
       "                 date  count\n",
       "date                        \n",
       "2017-08-13 2017-08-13      1\n",
       "2017-05-17 2017-05-17      1\n",
       "2017-03-06 2017-03-06      1"
      ]
     },
     "execution_count": 55,
     "metadata": {},
     "output_type": "execute_result"
    }
   ],
   "source": [
    "## Remap the complex date format to 'days'.\n",
    "countByWeek_data['date'] = countByWeek_data['date'].apply(lambda x : datetime.datetime(year=x.year, month=x.month, day=x.day))\n",
    "## Set date as the index\n",
    "countByWeek_data.set_index(countByWeek_data['date'],inplace=True)\n",
    "countByWeek_data.sample(3)"
   ]
  },
  {
   "cell_type": "code",
   "execution_count": 57,
   "metadata": {},
   "outputs": [
    {
     "data": {
      "text/html": [
       "<div>\n",
       "<style scoped>\n",
       "    .dataframe tbody tr th:only-of-type {\n",
       "        vertical-align: middle;\n",
       "    }\n",
       "\n",
       "    .dataframe tbody tr th {\n",
       "        vertical-align: top;\n",
       "    }\n",
       "\n",
       "    .dataframe thead th {\n",
       "        text-align: right;\n",
       "    }\n",
       "</style>\n",
       "<table border=\"1\" class=\"dataframe\">\n",
       "  <thead>\n",
       "    <tr style=\"text-align: right;\">\n",
       "      <th></th>\n",
       "      <th>count</th>\n",
       "    </tr>\n",
       "    <tr>\n",
       "      <th>date</th>\n",
       "      <th></th>\n",
       "    </tr>\n",
       "  </thead>\n",
       "  <tbody>\n",
       "    <tr>\n",
       "      <th>2017-01-01</th>\n",
       "      <td>14</td>\n",
       "    </tr>\n",
       "    <tr>\n",
       "      <th>2017-01-08</th>\n",
       "      <td>180</td>\n",
       "    </tr>\n",
       "    <tr>\n",
       "      <th>2017-01-15</th>\n",
       "      <td>264</td>\n",
       "    </tr>\n",
       "    <tr>\n",
       "      <th>2017-01-22</th>\n",
       "      <td>405</td>\n",
       "    </tr>\n",
       "    <tr>\n",
       "      <th>2017-01-29</th>\n",
       "      <td>233</td>\n",
       "    </tr>\n",
       "    <tr>\n",
       "      <th>2017-02-05</th>\n",
       "      <td>211</td>\n",
       "    </tr>\n",
       "    <tr>\n",
       "      <th>2017-02-12</th>\n",
       "      <td>195</td>\n",
       "    </tr>\n",
       "    <tr>\n",
       "      <th>2017-02-19</th>\n",
       "      <td>248</td>\n",
       "    </tr>\n",
       "    <tr>\n",
       "      <th>2017-02-26</th>\n",
       "      <td>315</td>\n",
       "    </tr>\n",
       "    <tr>\n",
       "      <th>2017-03-05</th>\n",
       "      <td>260</td>\n",
       "    </tr>\n",
       "  </tbody>\n",
       "</table>\n",
       "</div>"
      ],
      "text/plain": [
       "            count\n",
       "date             \n",
       "2017-01-01     14\n",
       "2017-01-08    180\n",
       "2017-01-15    264\n",
       "2017-01-22    405\n",
       "2017-01-29    233\n",
       "2017-02-05    211\n",
       "2017-02-12    195\n",
       "2017-02-19    248\n",
       "2017-02-26    315\n",
       "2017-03-05    260"
      ]
     },
     "execution_count": 57,
     "metadata": {},
     "output_type": "execute_result"
    }
   ],
   "source": [
    "## Then resample the data by weeks\n",
    "countByWeek_data = countByWeek_data.resample('W').sum()\n",
    "countByWeek_data.head(10)"
   ]
  },
  {
   "cell_type": "code",
   "execution_count": 64,
   "metadata": {},
   "outputs": [],
   "source": [
    "## Check the length to make sure I don't lost any rows.\n",
    "assert int(countByWeek_data.sum()) == len(ori_data), \"Lost rows!\""
   ]
  },
  {
   "cell_type": "code",
   "execution_count": null,
   "metadata": {},
   "outputs": [],
   "source": [
    "countByWeek_data.set_index(countByWeek_data.index.strftime('%m/%d/%Y').values, inplace=True)"
   ]
  },
  {
   "cell_type": "code",
   "execution_count": 100,
   "metadata": {},
   "outputs": [
    {
     "data": {
      "image/png": "[encoded data removed]",
      "text/plain": [
       "<Figure size 2160x864 with 1 Axes>"
      ]
     },
     "metadata": {
      "needs_background": "light"
     },
     "output_type": "display_data"
    }
   ],
   "source": [
    "plt.figure(figsize=(30,12))\n",
    "ax = sns.barplot(x=countByWeek_data.index, y=countByWeek_data['count'])\n",
    "plt.xticks(rotation=65,\n",
    "           horizontalalignment='right',\n",
    "           fontweight='light',\n",
    "           fontsize='x-large'  )\n",
    "plt.yticks(fontweight='light',\n",
    "           fontsize='x-large')\n",
    "for p in ax.patches: ax.annotate(np.round(p.get_height(),decimals=2), (p.get_x()+p.get_width()/2., p.get_height()), ha='center', va='center', xytext=(0, 10), textcoords='offset points')"
   ]
  }
 ],
 "metadata": {
  "kernelspec": {
   "display_name": "Python 3",
   "language": "python",
   "name": "python3"
  },
  "language_info": {
   "codemirror_mode": {
    "name": "ipython",
    "version": 3
   },
   "file_extension": ".py",
   "mimetype": "text/x-python",
   "name": "python",
   "nbconvert_exporter": "python",
   "pygments_lexer": "ipython3",
   "version": "3.7.0"
  }
 },
 "nbformat": 4,
 "nbformat_minor": 4
}
